{
 "cells": [
  {
   "cell_type": "code",
   "execution_count": 101,
   "metadata": {},
   "outputs": [],
   "source": [
    "import numpy as np\n",
    "import pandas as pd \n",
    "import seaborn as sns # for Visualization\n",
    "import matplotlib.pyplot as plt #for visualization\n",
    "from sklearn.linear_model import LinearRegression\n",
    "from sklearn.model_selection import train_test_split\n",
    "from sklearn.metrics import confusion_matrix\n",
    "from sklearn.metrics import accuracy_score\n",
    "from sklearn.model_selection import cross_val_score\n",
    "from sklearn import metrics\n",
    "from sklearn import linear_model"
   ]
  },
  {
   "cell_type": "code",
   "execution_count": 102,
   "metadata": {},
   "outputs": [
    {
     "name": "stdout",
     "output_type": "stream",
     "text": [
      "<class 'pandas.core.frame.DataFrame'>\n",
      "RangeIndex: 500 entries, 0 to 499\n",
      "Data columns (total 10 columns):\n",
      " #   Column                  Non-Null Count  Dtype  \n",
      "---  ------                  --------------  -----  \n",
      " 0   SKU                     500 non-null    object \n",
      " 1   Shelf_Life              500 non-null    int64  \n",
      " 2   Products_Sold           497 non-null    float64\n",
      " 3   Rate_of_Sales           497 non-null    float64\n",
      " 4   Stock_on_Hand           500 non-null    int64  \n",
      " 5   Lead_time               500 non-null    int64  \n",
      " 6   Review_time             500 non-null    int64  \n",
      " 7   Inventory_in_Transit    500 non-null    int64  \n",
      " 8   Inventory_in_Warehouse  500 non-null    int64  \n",
      " 9   Qty to order            0 non-null      float64\n",
      "dtypes: float64(3), int64(6), object(1)\n",
      "memory usage: 39.2+ KB\n"
     ]
    }
   ],
   "source": [
    "Test_Data = pd.ExcelFile('Zepto Case Study.xlsx').parse('Output')\n",
    "Test_Data.info()"
   ]
  },
  {
   "cell_type": "code",
   "execution_count": 103,
   "metadata": {},
   "outputs": [],
   "source": [
    "Test_Data.drop(columns=[\"Qty to order\"],axis = 1, inplace = True)"
   ]
  },
  {
   "cell_type": "code",
   "execution_count": 104,
   "metadata": {},
   "outputs": [
    {
     "name": "stdout",
     "output_type": "stream",
     "text": [
      "<class 'pandas.core.frame.DataFrame'>\n",
      "RangeIndex: 500 entries, 0 to 499\n",
      "Data columns (total 9 columns):\n",
      " #   Column                  Non-Null Count  Dtype  \n",
      "---  ------                  --------------  -----  \n",
      " 0   SKU                     500 non-null    object \n",
      " 1   Shelf_Life              500 non-null    int64  \n",
      " 2   Products_Sold           500 non-null    float64\n",
      " 3   Rate_of_Sales           500 non-null    float64\n",
      " 4   Stock_on_Hand           500 non-null    int64  \n",
      " 5   Lead_time               500 non-null    int64  \n",
      " 6   Review_time             500 non-null    int64  \n",
      " 7   Inventory_in_Transit    500 non-null    int64  \n",
      " 8   Inventory_in_Warehouse  500 non-null    int64  \n",
      "dtypes: float64(2), int64(6), object(1)\n",
      "memory usage: 35.3+ KB\n"
     ]
    }
   ],
   "source": [
    "TestData=Test_Data.Products_Sold.median()\n",
    "TestData2=Test_Data.Rate_of_Sales.median()\n",
    "Test_Data.Products_Sold = Test_Data.Products_Sold.fillna(TestData)\n",
    "Test_Data.Rate_of_Sales = Test_Data.Rate_of_Sales.fillna(TestData2)\n",
    "Test_Data.info()"
   ]
  },
  {
   "cell_type": "code",
   "execution_count": 105,
   "metadata": {},
   "outputs": [],
   "source": [
    "def get_dummy_data(df):\n",
    "    \n",
    "    df_dummy = df.copy()\n",
    "    #drop catagorical variables\n",
    "    df.drop('SKU',axis = 1, inplace = True)\n",
    "    \n",
    "    #Select catagorical variables from given dataframe\n",
    "    cat_features = df.select_dtypes(include=['object']).columns.tolist()\n",
    "    \n",
    "    #create dummy values of catagorical variables.\n",
    "    df = pd.get_dummies(df, columns= cat_features)\n",
    "    \n",
    "    return df"
   ]
  },
  {
   "cell_type": "code",
   "execution_count": 106,
   "metadata": {},
   "outputs": [],
   "source": [
    "Final_Dataset = get_dummy_data(Test_Data)"
   ]
  },
  {
   "cell_type": "code",
   "execution_count": 125,
   "metadata": {},
   "outputs": [
    {
     "data": {
      "text/plain": [
       "LinearRegression()"
      ]
     },
     "execution_count": 125,
     "metadata": {},
     "output_type": "execute_result"
    }
   ],
   "source": [
    "reg=linear_model.LinearRegression()\n",
    "X=Final_Dataset.drop(columns=[\"Products_Sold\",\"Rate_of_Sales\"],axis='columns')\n",
    "Y=Final_Dataset.Products_Sold\n",
    "reg.fit(X,Y)"
   ]
  },
  {
   "cell_type": "code",
   "execution_count": 126,
   "metadata": {},
   "outputs": [
    {
     "data": {
      "text/plain": [
       "array([[-1.51989542e-03,  3.82997757e+00, -2.75980792e+01,\n",
       "        -2.04163686e+01,  3.52283275e+00, -4.95165637e+00]])"
      ]
     },
     "execution_count": 126,
     "metadata": {},
     "output_type": "execute_result"
    }
   ],
   "source": [
    "model.coef_"
   ]
  },
  {
   "cell_type": "markdown",
   "metadata": {},
   "source": [
    "model.predict([[360,16,4,7,18,0]])"
   ]
  },
  {
   "cell_type": "code",
   "execution_count": 130,
   "metadata": {},
   "outputs": [
    {
     "data": {
      "text/plain": [
       "array([[92.37509138]])"
      ]
     },
     "execution_count": 130,
     "metadata": {},
     "output_type": "execute_result"
    }
   ],
   "source": [
    "model.predict([[360,16,4,7,18,0]])"
   ]
  },
  {
   "cell_type": "code",
   "execution_count": null,
   "metadata": {},
   "outputs": [],
   "source": []
  }
 ],
 "metadata": {
  "kernelspec": {
   "display_name": "Python 3",
   "language": "python",
   "name": "python3"
  },
  "language_info": {
   "codemirror_mode": {
    "name": "ipython",
    "version": 3
   },
   "file_extension": ".py",
   "mimetype": "text/x-python",
   "name": "python",
   "nbconvert_exporter": "python",
   "pygments_lexer": "ipython3",
   "version": "3.8.5"
  }
 },
 "nbformat": 4,
 "nbformat_minor": 4
}
